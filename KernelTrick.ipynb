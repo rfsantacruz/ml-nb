{
 "cells": [
  {
   "cell_type": "markdown",
   "metadata": {},
   "source": [
    "# Kernel Methods (In progress)"
   ]
  },
  {
   "cell_type": "code",
   "execution_count": 35,
   "metadata": {
    "collapsed": false
   },
   "outputs": [],
   "source": [
    "%matplotlib inline\n",
    "import numpy as np\n",
    "import matplotlib.pyplot as plt\n",
    "import pandas as pd\n",
    "\n",
    "# Solution\n",
    "names = ['medv', 'crim', 'zn', 'indus', 'chas', 'nox', 'rm', 'age', 'dis', 'rad', 'tax', 'ptratio', 'b', 'lstat']\n",
    "data = pd.read_csv('data/housing_scale.csv', header=None, names=names)\n",
    "data.head()\n",
    "\n",
    "# Split data set in train and test\n",
    "def split_data(data):\n",
    "    \"\"\"Randomly split data into two equal groups\"\"\"\n",
    "    np.random.seed(1)\n",
    "    N = len(data)\n",
    "    idx = np.arange(N)\n",
    "    np.random.shuffle(idx)\n",
    "    train_idx = idx[:int(N/2)]\n",
    "    test_idx = idx[int(N/2):]\n",
    "\n",
    "    X_train = data.loc[train_idx].drop('medv', axis=1)\n",
    "    t_train = data.loc[train_idx]['medv']\n",
    "    X_test = data.loc[test_idx].drop('medv', axis=1)\n",
    "    t_test = data.loc[test_idx]['medv']\n",
    "    \n",
    "    return X_train, t_train, X_test, t_test\n",
    "\n",
    "# root mean squared error\n",
    "def rmse(T, Y):\n",
    "    return np.linalg.norm(Y - T) / np.sqrt(len(T))\n",
    "\n",
    "# set up train and test set\n",
    "X_train, t_train, X_test, t_test = split_data(data)\n"
   ]
  },
  {
   "cell_type": "markdown",
   "metadata": {},
   "source": [
    "# Kernalized Linear Regression"
   ]
  },
  {
   "cell_type": "code",
   "execution_count": 44,
   "metadata": {
    "collapsed": false
   },
   "outputs": [
    {
     "name": "stdout",
     "output_type": "stream",
     "text": [
      "Train mean squared error: 4.6879143307421245\n",
      "Test mean squared error: 5.355746233981017\n"
     ]
    }
   ],
   "source": [
    "# Kernel function\n",
    "def kernel_function(X, Y):\n",
    "    return X.T * Y\n",
    "\n",
    "# Learn model, for faster prediction\n",
    "def learn(X, T, lamb):\n",
    "    K = np.dot(X, X.T)\n",
    "    I = np.eye(K.shape[0])\n",
    "    return np.dot(np.linalg.inv((K + lamb * I)), T) \n",
    "\n",
    "# Predict\n",
    "def predict(model, X_train, X_test):\n",
    "    k = np.dot(X_train, X_test.T)    \n",
    "    return np.dot(k.T, model)\n",
    "\n",
    "# Run regressor\n",
    "lamb = 0.01\n",
    "model = learn(X_train, t_train, lamb)\n",
    "y_train = predict(model, X_train, X_train)\n",
    "y_test = predict(model, X_train, X_test)\n",
    "\n",
    "print(\"Train mean squared error: {}\".format(rmse(t_train, y_train)))\n",
    "print(\"Test mean squared error: {}\".format(rmse(t_test, y_test)))"
   ]
  },
  {
   "cell_type": "markdown",
   "metadata": {},
   "source": [
    "# Gaussian Process\n",
    "\n",
    "## Regression"
   ]
  },
  {
   "cell_type": "code",
   "execution_count": null,
   "metadata": {
    "collapsed": true
   },
   "outputs": [],
   "source": [
    "# Model Distribution\n",
    "\n",
    "# Predictive Distribution"
   ]
  }
 ],
 "metadata": {
  "kernelspec": {
   "display_name": "Python 3",
   "language": "python",
   "name": "python3"
  },
  "language_info": {
   "codemirror_mode": {
    "name": "ipython",
    "version": 3
   },
   "file_extension": ".py",
   "mimetype": "text/x-python",
   "name": "python",
   "nbconvert_exporter": "python",
   "pygments_lexer": "ipython3",
   "version": "3.4.4"
  }
 },
 "nbformat": 4,
 "nbformat_minor": 0
}
