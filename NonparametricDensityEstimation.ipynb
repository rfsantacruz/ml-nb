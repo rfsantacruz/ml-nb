{
 "cells": [
  {
   "cell_type": "markdown",
   "metadata": {},
   "source": [
    "# Non-parametric models for density estimation\n",
    "\n",
    "Non-parametric models for density estimation are models that its parameters do not define the form of the distribution. Indeed, parameters define the complexity of the model and the form is defined by the data given the complexity of the parameters. \n",
    "\n",
    "* advantages over parametric approach: \n",
    "An important limitation of parametric models is that the chosen density (parameters that define the form of the distribution) might be a poor model of the distribution that generates the data, which can result in poor predictive performance.\n",
    "\n"
   ]
  },
  {
   "cell_type": "code",
   "execution_count": 1,
   "metadata": {
    "collapsed": true
   },
   "outputs": [],
   "source": [
    "%matplotlib inline\n",
    "import numpy as np\n",
    "import matplotlib.pyplot as plt\n",
    "from scipy import stats as st\n",
    "import math"
   ]
  },
  {
   "cell_type": "markdown",
   "metadata": {},
   "source": [
    "## Histogram\n",
    "\n",
    "It is the simplest form and is more a theoric approach than a pratical. **It is more used to data visualization.** Standard histograms simply partition x into distinct bins of width $\\Delta_i$ and then count the number $n_i$ of observations of x falling in bin i. In order to turn this count into a normalized probability density, we simply divide by the total number N of observations and by the width $\\Delta_i$ of the bins to obtain probability values for each bin given by,\n",
    "$$p_i = \\frac{n_i}{N \\Delta_i}$$\n",
    "This gives a model for the density p(x) that is constant over the width of each bin. In other words, **the probability of x is the probability of the bin it falling in.** \n",
    "The parameter $\\Delta_i$ is usually constant $\\Delta$ and governs the model complexity. It can been seen as smooth parameter where small values makes the distribution very spick and fitted to the data, providing less generalization. If it is to high it makes the distribution too smooth and fails to capture the data.  \n",
    "\n",
    "### Problems with this approach:\n",
    "1. Estimated density has discontinuities that are due to the bin edges\n",
    "2. Exponential scaling with D is an example of the curse of dimensionality. Ex: If we divide each variable in a D-dimensional space into M bins, then the total number of bins will be $M^D$\n",
    "3. Points in the same bin have the same probability\n",
    "\n",
    "\n",
    "\n"
   ]
  },
  {
   "cell_type": "code",
   "execution_count": 2,
   "metadata": {
    "collapsed": false
   },
   "outputs": [
    {
     "data": {
      "text/plain": [
       "[<matplotlib.lines.Line2D at 0x7f48cc685470>]"
      ]
     },
     "execution_count": 2,
     "metadata": {},
     "output_type": "execute_result"
    },
    {
     "data": {
      "image/png": "[encoded data removed]",
      "text/plain": [
       "<matplotlib.figure.Figure at 0x7f48cc685518>"
      ]
     },
     "metadata": {},
     "output_type": "display_data"
    }
   ],
   "source": [
    "# NOT WORKING YET\n",
    "# delta model parameter. Change to see the behaviour\n",
    "delta = 0.08\n",
    "\n",
    "# Consider the artificial data X as continuous variable between [0,1] that is generated by a bimodal distribution\n",
    "# or sum of tow gaussians\n",
    "xmax = 1; xmin = -1;\n",
    "X = 0.1 * np.random.randn(20,1) + 0\n",
    "points = np.linspace(-1,1,num=100)\n",
    "\n",
    "#plot the curve\n",
    "true_pdf = lambda v: st.norm.pdf(v,loc=0.0, scale=0.1)\n",
    "plt.plot(points, true_pdf(points))\n",
    "\n",
    "#compute bins probabilities\n",
    "N = X.size\n",
    "bins_num = math.ceil((xmax-xmin) / delta)\n",
    "bins = np.zeros((bins_num,1))\n",
    "for i in range(bins_num):\n",
    "    bound = [delta * i, delta * (i+1)]\n",
    "    if bound[1] == xmax:\n",
    "        bins[i] = np.sum(np.logical_and(np.greater_equal(X,bound[0]),np.less_equal(X,bound[1]))) \n",
    "    else:\n",
    "        bins[i] = np.sum(np.logical_and(np.greater_equal(X,bound[0]),np.less(X,bound[1])))\n",
    "\n",
    "bins = bins / (N*delta)\n",
    "\n",
    "prob = lambda v: bins[np.floor(v/delta).astype(int)]\n",
    "\n",
    "#plot the histogram estimated density\n",
    "plt.plot(points, prob(points),'-r')"
   ]
  },
  {
   "cell_type": "markdown",
   "metadata": {},
   "source": [
    "## Kernel Density Estimation\n",
    "\n",
    "All of the kernel methods come from the equation $p(x) = \\frac{n_i}{N\\Delta}$. In kernel density a **kernel function** is used to compute the value of $n_i$. A kernel function is a function that summarizes the data around a point. One simple way to construct a kernel function is to use bins which are hypercubes with sides of size h, as follows,\n",
    "\n",
    "If x is the new instance whose density we want to estimate, and $x_1 , . . . , x_N$ are the training instances, let $||x − y||$ denote the distance between x and y according to the max norm, i.e., the maximum distance between x and y in any one dimension. so we get the kernel,\n",
    "$$K(x) = count\\left(x^i: ||x^i - x|| \\leq \\frac{h}{2}\\right)$$\n",
    "This kernel function describes a n-dimensional hipercube with sides h. This kernel has volume $V_x$ equal to $h^n$ and we can build the density estimator,\n",
    "$$p(x) = \\frac{n_i}{N\\Delta} = \\frac{K(x)}{NV_x} = \\frac{K(x)}{Nh^n}$$\n",
    "Using this reasoning we can build other estimators using any other kernel. For example if we prefer have **soft bins**, where it is allowed for a point to be partially in a bin, depending on its distance from the center. Then we can use the gaussian kernel,\n",
    "$$K_g = \\sum_i^n exp\\left(- \\frac{|x- x_i|^2}{2h^2}\\right)$$\n",
    "For a general kernel function, the volume $V_x$ is the expected value of the kernel function under a uniform density over the entire space. It is obtained by replacing the sum in the kernel function with an integral. In the case of gaussian kernel, $V_x = (2 \\pi h^2)^{n/2}$ and the estimator p(x) is,\n",
    "$$p(x) = \\frac{1}{N} \\sum_i^N \\frac{1}{(2 \\pi h^2)^{n/2}} exp\\left(- \\frac{|x- x_i|^2}{2h^2}\\right)$$\n",
    "\n",
    "Intuitively, what this does is take into account all training instances when computing the density at a given point. Instances are weighted according to their distance from the given point, with their weight decaying exponentially as they move further away as  gaussian. In other words, The gaussian kernel density model is obtained by placing a Gaussian over each data point and then adding up the contributions over the whole data set, and then dividing by N so that the density is correctly normalized.\n",
    "\n",
    "As with histograms, the size h of bins is a smoothing parameter. When h is very small, the estimate will tend to be jagged, while with very large h, it will be very smooth.\n",
    "\n",
    "These Kernel functions are not the same as support vector machine kernels. In kernel density estimation, kernel functions are function that produces positives values ($K(.) \\geq 0$) and integrates to one.  \n",
    "\n",
    "\n",
    "### Advantages and Problems with this approach\n",
    "\n",
    "1. kernel density estimator converge to the true probability density in the limit N → ∞ provided V shrinks suitably with N , and K grows with N\n",
    "2. The result is a continuous density estimator (without descontinuities).\n",
    "3. There is no computation involved in the ‘training’ phase because this simply requires storage of the training set. However, this is also one of its great weaknesses because the computational cost of evaluating the density grows linearly with the size of the data set.\n"
   ]
  },
  {
   "cell_type": "code",
   "execution_count": 3,
   "metadata": {
    "collapsed": false
   },
   "outputs": [
    {
     "data": {
      "text/plain": [
       "[<matplotlib.lines.Line2D at 0x7f48ca58fbe0>]"
      ]
     },
     "execution_count": 3,
     "metadata": {},
     "output_type": "execute_result"
    },
    {
     "data": {
      "image/png": "[encoded data removed]",
      "text/plain": [
       "<matplotlib.figure.Figure at 0x7f48fe0dd4a8>"
      ]
     },
     "metadata": {},
     "output_type": "display_data"
    }
   ],
   "source": [
    "# hipercibe side h,  model parameter. Change to see the behaviour\n",
    "h = 0.05\n",
    "\n",
    "# Consider the artificial data X as continuous variable between [0,1] that is generated by a gaussian distribution\n",
    "X = 0.1 * np.random.randn(20,1) + 0\n",
    "points = np.linspace(-1,1,num=100)\n",
    "\n",
    "#plot the curve of true distribution\n",
    "true_pdf = lambda v: st.norm.pdf(v,loc=0, scale=0.1)\n",
    "plt.plot(points, true_pdf(points))\n",
    "\n",
    "#compute kernel gaussian desnsity from X\n",
    "points = np.linspace(-1,1,num=100)\n",
    "N = X.size\n",
    "prob = lambda v: (1./N) * np.sum((1/pow((2*np.pi*h*h),0.5))* np.exp(-1*(np.power((v - X), 2) / (2*h*h))))\n",
    "p = np.zeros(points.size)\n",
    "for i in range(p.size):\n",
    "    p[i] = prob(points[i])\n",
    "\n",
    "#plot the distribution estimated    \n",
    "plt.plot(points, p)\n",
    "\n"
   ]
  },
  {
   "cell_type": "markdown",
   "metadata": {},
   "source": [
    "## K-Nearest Neighbours\n",
    "\n",
    "K nearest neighbourh also come from the equation $p(x) = \\frac{n_i}{NV}$, but differently from kernel density estimation it fixes the value $n_i$ and use the training data to determine the value for V. In order to do this, we consider each point in the training data as a sphere of radius r. We allow the radius of the sphere to grow until it contains precisely\n",
    "K data points. Then we define the radius r equal to the distance (may be euclidean) between x and its $k_{th}$ neighbour. Then we estimate the distribution of x as follows,\n",
    "$$p(x) = \\frac{n_i}{NV} = \\frac{K}{NV_{sphere}} = \\frac{K}{N\\frac{4 \\pi r^3}{3}}$$\n",
    "\n",
    "As before, k serves as a smoothing parameter. If k is small, particularly if k = 1, the method has a tendency to overfit. A single noisy training instance will affect all points that are closer to it than any other. As k grows larger, the effect of individual points is lessened and the model is smoothed.\n",
    "\n",
    "\n",
    "\n",
    "\n",
    "### Advantages and Problems\n",
    "1. In kernel density estimation the h governs the kernel width, and it is fixed for all kernels. It is sub optimal since depending of the distribution of the data some regions may require smaller or higher hypercubes. Dense regions -> small values, Sparse region -> big values.\n",
    "\n",
    "2. Note that the model produced by K nearest neighbours is not a true density model because the integral over all space diverges.\n",
    "\n",
    "3. This technique can be easily extended to be classifier called KNN\n",
    "$$p(c_k|x) = \\frac {p(x | c_k) p(c_k)}{p(x)} = \\frac{\\frac{K_k}{N_k V} \\frac{N_k}{N}}{\\frac{K}{N V}} = \\frac{K_k}{K}$$\n",
    "\n",
    "4. Likewise Kernel methods, it do not make any processing during the training but is expensive in test time since it is necessary comute distance to all training data. It also need to store all the data points in the training set.\n",
    "\n",
    "5. It also suffer from the curse of dimensionality. The reason is that in high dimensions, a point is unlikely to have any close neighbors. The same apply for the kernel methods.\n",
    "\n",
    "\n"
   ]
  }
 ],
 "metadata": {
  "kernelspec": {
   "display_name": "Python 3",
   "language": "python",
   "name": "python3"
  },
  "language_info": {
   "codemirror_mode": {
    "name": "ipython",
    "version": 3
   },
   "file_extension": ".py",
   "mimetype": "text/x-python",
   "name": "python",
   "nbconvert_exporter": "python",
   "pygments_lexer": "ipython3",
   "version": "3.4.3"
  }
 },
 "nbformat": 4,
 "nbformat_minor": 0
}
