{
 "cells": [
  {
   "cell_type": "markdown",
   "metadata": {},
   "source": [
    "# Density Estimation\n",
    "\n",
    "Density estimation is the process to estimate the distribution of the data given a finite set $x_1 , . . . , x_N$ of\n",
    "observations. It should be emphasized that the problem of density estimation is fundamentally ill-posed, because there are infinitely many probability distributions that could have given rise to the observed finite data set. The aim of these methods is to create a predictor of new points given the observed data.\n",
    "\n",
    "\n",
    "## Parametric vs Nonparametric models:\n",
    "\n",
    "We can classify these models in two main classes parametric and non-parametric models. The parametric models they are governed by a small number of adaptive parameters, such as the mean and variance in the case of a Gaussian for example. To apply such models to the problem of density estimation, we need a procedure for determining suitable values for the parameters, given an observed data set. One limitation of the parametric approach is that it assumes a specific functional form for the distribution, which may turn out to be inappropriate for a particular application or data. An alternative approach is given by nonparametric density estimation methods in which the form of the distribution typically depends on the size of the data set. Such models still contain parameters, but these control the model complexity rather than the form of the distribution.\n",
    "\n",
    "Parametrics methods: Bernoulli, Multinomial and Gaussian\n",
    "\n",
    "Nonparametrics methods: histograms, nearest-neighbours, and kernels."
   ]
  },
  {
   "cell_type": "code",
   "execution_count": 3,
   "metadata": {
    "collapsed": false
   },
   "outputs": [],
   "source": [
    "%matplotlib inline\n",
    "import numpy as np\n",
    "import matplotlib.pyplot as plt\n",
    "from src import parametric_models as pm\n",
    "from scipy import stats as st"
   ]
  },
  {
   "cell_type": "markdown",
   "metadata": {},
   "source": [
    "## Distributions\n",
    "\n",
    "### Bernoulli Distribution\n",
    "\n",
    "Bernoulli is a distribution for binary random variables where its outcome $x \\in \\{0,1\\}$ and it is governed by the parameter $\\mu$ that can be seen as the probability of a random variable $x$ beign equal to 1. So, that $P(x=1|\\mu) = \\mu$ and $P(x=0|\\mu) = (1-\\mu)$. Therefore we can define the Bernoully distribution of a bynary random variable $x$ as,\n",
    "\n",
    "$$Bern(X|\\mu) = P(X|\\mu) = \\mu^X(1-\\mu)^{(1-X)}  $$\n",
    "$$E[X] = \\mu$$\n",
    "$$ Var[X] = \\mu(1-\\mu)$$\n",
    "\n",
    "\n",
    "\n",
    "\n",
    "\n",
    "\n",
    "\n"
   ]
  },
  {
   "cell_type": "code",
   "execution_count": 4,
   "metadata": {
    "collapsed": false
   },
   "outputs": [
    {
     "name": "stdout",
     "output_type": "stream",
     "text": [
      "Bernoulli distribution, given parameter mu = 0.3\n",
      "Expectation = 0.3\n",
      "Var = 0.21\n",
      "Prob (0,1)= [ 0.7  0.3]\n"
     ]
    },
    {
     "data": {
      "image/png": "[encoded data removed]",
      "text/plain": [
       "<matplotlib.figure.Figure at 0x7f1d0fdc84a8>"
      ]
     },
     "metadata": {},
     "output_type": "display_data"
    }
   ],
   "source": [
    "#Parameters - vary mu to see how the distribution behaves\n",
    "N = 10; mu = 0.3\n",
    "\n",
    "#using distribution\n",
    "scipyBen = st.bernoulli(mu);\n",
    "mean, var = st.bernoulli.stats(mu, moments='mv');                \n",
    "pdf = scipyBen.pmf(np.array([0,1]));\n",
    "\n",
    "#sampling from bernoulli\n",
    "heads = np.ones((N*mu,), dtype=np.int);\n",
    "tails = np.zeros((N*(1-mu),), dtype=np.int);\n",
    "X = np.concatenate((heads, tails), axis = 0);\n",
    "\n",
    "\n",
    "#Print metrics\n",
    "print('Bernoulli distribution, given parameter mu = {}'.format(mu))\n",
    "print('Expectation = {}'.format(mean));\n",
    "print('Var = {}'.format(var));\n",
    "print('Prob (0,1)= {}'.format(pdf));\n",
    "\n",
    "\n",
    "#configure graph\n",
    "plt.hist(X, facecolor='blue', label='Sample distribution');\n",
    "plt.xlim([-1, 2]);\n",
    "plt.ylim([0, N]);\n",
    "plt.ylabel('Frequency');\n",
    "plt.xlabel('Tails or Heads');\n",
    "plt.title('Coin Tosses');\n",
    "plt.legend(loc='upper right');\n",
    "plt.show();\n"
   ]
  },
  {
   "cell_type": "markdown",
   "metadata": {},
   "source": [
    "### Binomial\n",
    "\n",
    "We can also work out the distribution of the number m of observations of x = 1, given that the data set has size N. This the binomial distribution and it is defined by mu (the probability of get x = 1) and N (the total number of trials).\n",
    "\\begin{equation}\n",
    "Binomial(m|N, \\mu) = binom\\left(\\frac{N}{m}\\right) \\mu^m (1- mu)^{N-m} \\\\\n",
    "E[m] = N\\mu  \\\\\n",
    "Var[m] = N\\mu(1-\\mu)\n",
    "\\end{equation}"
   ]
  },
  {
   "cell_type": "code",
   "execution_count": 5,
   "metadata": {
    "collapsed": false
   },
   "outputs": [
    {
     "name": "stdout",
     "output_type": "stream",
     "text": [
      "Binomial Distribution, given parameters (N, mu) = (10,0.3)\n",
      "Expectation = 3.0\n",
      "Var = 2.0999999999999996\n",
      "Prob (m = 1:N)= [  1.21060821e-01   2.33474440e-01   2.66827932e-01   2.00120949e-01\n",
      "   1.02919345e-01   3.67569090e-02   9.00169200e-03   1.44670050e-03\n",
      "   1.37781000e-04   5.90490000e-06]\n"
     ]
    },
    {
     "data": {
      "image/png": "[encoded data removed]",
      "text/plain": [
       "<matplotlib.figure.Figure at 0x7f1d15ba8198>"
      ]
     },
     "metadata": {},
     "output_type": "display_data"
    }
   ],
   "source": [
    "#Parameters - vary to see how it behaves\n",
    "mu = 0.3; N = 10;\n",
    "\n",
    "#Binomial metrics\n",
    "scipyBin = st.binom(N, mu);\n",
    "mean, var = st.binom.stats(N, mu, moments='mv');                \n",
    "pdf = scipyBin.pmf(np.arange(1,N+1,1));\n",
    "\n",
    "#Print metrics\n",
    "print('Binomial Distribution, given parameters (N, mu) = ({},{})'.format(N,mu))\n",
    "print('Expectation = {}'.format(mean));\n",
    "print('Var = {}'.format(var));\n",
    "print('Prob (m = 1:N)= {}'.format(pdf));\n",
    "\n",
    "#configure graph\n",
    "plt.bar(np.arange(1,N+1,1), pdf)\n",
    "plt.ylabel('Frequency');\n",
    "plt.xlabel('exactly m heads');\n",
    "plt.title('M heads Tosses');\n",
    "plt.show();\n"
   ]
  },
  {
   "cell_type": "markdown",
   "metadata": {},
   "source": [
    "### Multinomial\n",
    "\n",
    "Multinomial is a for discrete variables that can take on one of K possible mutually exclusive states. It is parametrized by the vector $\\vec{\\mu} = (\\mu_0,...,\\mu_k)^T$ Where $\\sum_{k=1}^K \\mu_k = 1$\n",
    "\n",
    "$$Multinomial(k|\\vec\\mu) =  \\mu_k$$\n",
    "$$E[k] = N\\mu_k$$\n",
    "$$ Var[k] = N\\mu_k(1-\\mu_k)$$"
   ]
  },
  {
   "cell_type": "code",
   "execution_count": 6,
   "metadata": {
    "collapsed": false
   },
   "outputs": [
    {
     "name": "stdout",
     "output_type": "stream",
     "text": [
      "Multinomial Distribution, given parameters (k, mu) = (5,[ 0.2  0.2  0.2  0.1  0.3])\n",
      "\n",
      "Expectation([0,..,K-1]) = [ 2.  2.  2.  1.  3.]\n",
      "Var([0,..,K-1]) = [ 1.6  1.6  1.6  0.9  2.1]\n",
      "Prob (x = 1:K)= [ 0.2  0.2  0.2  0.1  0.3]\n"
     ]
    },
    {
     "data": {
      "image/png": "[encoded data removed]",
      "text/plain": [
       "<matplotlib.figure.Figure at 0x7f1d0dc5c208>"
      ]
     },
     "metadata": {},
     "output_type": "display_data"
    }
   ],
   "source": [
    "#Parameters - vary to see how it behaves\n",
    "N = 10; K = 5; MU = np.array([0.2, 0.2, 0.2, 0.1, 0.3]);  \n",
    "\n",
    "#Binomial metrics\n",
    "mean = lambda n, k, mu: n*mu[k];\n",
    "var = lambda n, k, mu: n*mu[k]*(1-mu[k]);\n",
    "pdf = lambda x, k, mu: mu[x];\n",
    "x = np.arange(0,K,1);\n",
    "\n",
    "#Print metrics\n",
    "print('Multinomial Distribution, given parameters (k, mu) = ({},{})\\n'.format(K,MU))\n",
    "print('Expectation([0,..,K-1]) = {}'.format(mean(N, x, MU)));\n",
    "print('Var([0,..,K-1]) = {}'.format(var(N, x, MU)));\n",
    "print('Prob (x = 1:K)= {}'.format(pdf(x , K, MU)));\n",
    "\n",
    "#configure graph\n",
    "plt.bar(x, pdf(x , K, MU))\n",
    "plt.ylabel('Probability');\n",
    "plt.xlabel('K values');\n",
    "plt.title('Multinomial for discrete variables 0 ... {}'.format(K-1));\n",
    "plt.show();\n"
   ]
  },
  {
   "cell_type": "markdown",
   "metadata": {},
   "source": [
    "### Univariate and Multivariate Gaussian\n",
    "\n",
    "The Gaussian, also known as the normal distribution, is a widely used model for the distribution of continuous variables. In the case of a single variable x, the Gaussian distribution can be written in the form,\n",
    "\n",
    "$$P(x | \\mu, \\sigma)=\\frac{1}{\\sqrt{2\\pi }\\sigma}\\exp \\left\\{ -\\frac{1}{2} \\frac{\\left(x-\\mu\\right)^2}{\\sigma^2} \\right\\}$$\n",
    "\n",
    "where $\\mu$ is the mean and $\\sigma^2$ is the variance. For a D-dimensional vector x, the multivariate Gaussian distribution takes the form,\n",
    "\n",
    "$$P(x | \\mu, \\Sigma)=\\frac{1}{\\sqrt{(2\\pi)^D|\\Sigma|}}\n",
    "\\exp\\left(-\\frac{1}{2}({x}-{\\mu})^T{\\Sigma}^{-1}({x}-{\\mu})\n",
    "\\right)$$\n",
    "\n",
    "where $\\mu$ is a D-dimensional mean vector, $\\Sigma$ is a $D × D$ covariance matrix, and |Σ| denotes the determinant of Σ.\n",
    "\n",
    "#### Limitations of Gaussians\n",
    "\n",
    "* Unimodal: It has just one maximum therefore produces bad results for multimodal data. This can be overcomed with mixture of gaussian models.\n",
    "* Sucevtivel to noise: Outliers in the data prejudice drastically. Student T distributions is more robust than gaussians in that case.\n",
    "* In MLE variance is biased by the sample mean. However we can use a laplace smooth to overcome this problem."
   ]
  },
  {
   "cell_type": "code",
   "execution_count": 7,
   "metadata": {
    "collapsed": false
   },
   "outputs": [
    {
     "name": "stdout",
     "output_type": "stream",
     "text": [
      "Univariate Gaussian Distribution, given parameters (mu, variance) = (5,1)\n",
      "Expectation([0,..,K-1]) = 5.0\n",
      "Var([0,..,K-1]) = 1.0\n",
      "Prob (x = mu)= 0.3989422804014327 (maximum)\n"
     ]
    },
    {
     "data": {
      "image/png": "[encoded data removed]",
      "text/plain": [
       "<matplotlib.figure.Figure at 0x7f1d0dc440b8>"
      ]
     },
     "metadata": {},
     "output_type": "display_data"
    }
   ],
   "source": [
    "#Parameters - vary to see how it behaves ! univariate case the behaviour repeats in the high dimenssion space\n",
    "sigma = 1; mu = 5;\n",
    "\n",
    "#Univariate gaussian\n",
    "x = np.arange(0,10.1,0.1);\n",
    "scipyNorm = st.norm(loc=mu, scale=np.sqrt(sigma));\n",
    "mean, var = st.norm.stats(loc=mu, scale=np.sqrt(sigma), moments='mv');                \n",
    "pdf = scipyNorm.pdf(x);\n",
    "\n",
    "#Print metrics\n",
    "print('Univariate Gaussian Distribution, given parameters (mu, variance) = ({},{})'.format(mu, sigma));\n",
    "print('Expectation([0,..,K-1]) = {}'.format(mean));\n",
    "print('Var([0,..,K-1]) = {}'.format(var));\n",
    "print('Prob (x = mu)= {} (maximum)'.format(scipyNorm.pdf(mu)));\n",
    "\n",
    "#configure graph\n",
    "plt.plot(x, pdf)\n",
    "plt.ylabel('Probability');\n",
    "plt.xlabel('K values');\n",
    "plt.title('Multinomial for discrete variables 0 ... {}'.format(K-1));\n",
    "plt.show();"
   ]
  },
  {
   "cell_type": "markdown",
   "metadata": {},
   "source": [
    "##Fitting to the data\n",
    "\n",
    "In parametric models we have two options to infer its parameters from the data, the frenquentist approach and the bayesian approach. In a frequentist treatment, we choose specific values for the parameters by optimizing some criterion, such as the likelihood function. By contrast, in a Bayesian treatment we introduce prior distributions over the parameters and then use Bayes’ theorem to compute the corresponding posterior distribution given the observed data. The frequntist using MLE are subject of over-fitting which is handled by the introduction of prior probabilities in the bayesian settings. However, the frequentist approach can overcome this problem using regularization and large data sets.\n",
    "\n",
    "\n",
    "#### Frequntist Fitting of Bernoulli Distribution\n",
    "In a frequentist setting, we can estimate a value for $\\mu$ by maximizing the likelihood function, or equivalently by maximizing the logarithm of the likelihood given a set of finite observations. suppose we have a data set $D = \\{x_1 , . . . , x_N \\}$ of observed values of x. We can construct the likelihood function, which is a function of $\\mu$, on the assumption that the observations are drawn independently from $P(x|\\mu)$, and then maximizing the logarithm of this function by set the derivative of $ln(p(D|\\mu))$ with respect to $\\mu$ equal to zero, we obtain the maximum likelihood estimator (MLE) of $\\mu$. The same procedure can be used to other distributions, but the math is harder.\n",
    "\n",
    "$$ln(P(D|\\mu) = \\sum^N ln(p(x_n|\\mu)) = \\sum^N x_n ln(\\mu) + (1-x_n)ln(1-\\mu)$$\n",
    "$$\\mu_{ml} = \\arg\\!\\max ln(P(D|\\mu)) $$\n",
    "$$\\frac{\\partial ln(P(D|\\mu_ml) }{\\partial \\mu_ml} = 0 $$\n",
    "$$\\mu_{ml} = \\frac{1}{N}\\sum^n x_n$$\n",
    "\n",
    "Suppose X is a random variable that represent a coin toss with heads $X = 1$ and tails $X = 0$. By the maximum likelihood estimator, the probability of landing heads is given by the fraction of observations of heads in the data set. For small datasets this approach is subject to overfitting, but when N tends to infinity (in fact large) it is equal to Bayesian approach. "
   ]
  },
  {
   "cell_type": "code",
   "execution_count": 8,
   "metadata": {
    "collapsed": false
   },
   "outputs": [
    {
     "name": "stdout",
     "output_type": "stream",
     "text": [
      "Binomial distribution:\n",
      "Outcomes: Discrete integer\n",
      "Num of observations: 10\n",
      "Estimator: Estimator.MLE\n",
      "Expec: 7.00\n",
      "Var: 2.10\n"
     ]
    },
    {
     "data": {
      "image/png": "[encoded data removed]",
      "text/plain": [
       "<matplotlib.figure.Figure at 0x7f1d0dc488d0>"
      ]
     },
     "metadata": {},
     "output_type": "display_data"
    }
   ],
   "source": [
    "#Change the data and see how it behaves\n",
    "D = np.array([1, 1, 1, 1, 0, 1, 0, 1, 0, 1]);N = D.size;\n",
    "\n",
    "#fit Binomial to the data that is an combination of bernoulli\n",
    "Ben = pm.Binomial(D);\n",
    "X = np.arange(1,N+1,1)\n",
    "pdf = Ben.prob(X);\n",
    "print(Ben);\n",
    "\n",
    "#configure graph\n",
    "plt.bar(X, pdf)\n",
    "plt.ylabel('Frequency');\n",
    "plt.xlabel('exactly m heads');\n",
    "plt.title('M heads Tosses');\n",
    "plt.show();"
   ]
  },
  {
   "cell_type": "markdown",
   "metadata": {},
   "source": [
    "### Bayesian\n",
    "\n",
    "In order to develop a Bayesian treatment for this problem, we need to introduce a prior distribution $p(\\mu)$\n",
    "over the parameter $\\mu$. We should choose one prior that when mutiplied by the likelihood produces a posteriori probability that have the same format of the prior. This property is called conjugancy. Thefore, the conjugate prior of the Bernoulli distribution is the Beta distribution that is defined for continuous values as follow,\n",
    "\n",
    "$$Beta(\\mu|a, b) = \\frac{Γ(a + b)}{Γ(a)Γ(b)} \\mu^{a-1}(1-\\mu)^{b-1}$$\n",
    "$$Γ(x) = x!$$\n",
    "$$E[X] = \\mu$$\n",
    "$$ Var[X] = \\mu(1-\\mu)$$\n",
    "\n",
    "The parameters a and b are often called hyperparameters because they control the distribution of the parameter $\\mu$"
   ]
  },
  {
   "cell_type": "code",
   "execution_count": 9,
   "metadata": {
    "collapsed": false
   },
   "outputs": [
    {
     "name": "stdout",
     "output_type": "stream",
     "text": [
      "Beta Distribution, given parameters (a, b) = (8,4)\n",
      "Expectation() = 0.6666666666666666\n",
      "Var() = 0.017094017094017096\n"
     ]
    },
    {
     "data": {
      "image/png": "[encoded data removed]",
      "text/plain": [
       "<matplotlib.figure.Figure at 0x7f1d0dd3b390>"
      ]
     },
     "metadata": {},
     "output_type": "display_data"
    }
   ],
   "source": [
    "#Parameters - vary to see how it behaves ! \n",
    "a = 8; b = 4;\n",
    "\n",
    "#Beta distributon\n",
    "x = np.arange(0,1.01,0.01);\n",
    "scipyBeta = st.beta(a,b);\n",
    "mean, var = st.beta.stats(a, b, moments='mv');                \n",
    "pdf = scipyBeta.pdf(x);\n",
    "\n",
    "#Print metrics\n",
    "print('Beta Distribution, given parameters (a, b) = ({},{})'.format(a, b));\n",
    "print('Expectation() = {}'.format(mean));\n",
    "print('Var() = {}'.format(var));\n",
    "\n",
    "#configure graph\n",
    "plt.plot(x, pdf)\n",
    "plt.ylabel('P(mu)');\n",
    "plt.xlabel('mu');\n",
    "plt.title('Beta Distribution of mu');\n",
    "plt.show();"
   ]
  },
  {
   "cell_type": "markdown",
   "metadata": {},
   "source": [
    "The posterior distribution of $\\mu$ is now obtained by multiplying the beta prior by the binomial likelihood function and normalizing. Keeping only the factors that depend on $\\mu$, we see that this posterior distribution has the form,\n",
    "$$Beta(\\mu|a, b) = \\frac{Γ(m + a + l + b)}{Γ(m + a)Γ(l + b)} \\mu^{a + m-1}(1-\\mu)^{b + l -1}$$\n",
    "We see that it has the same functional dependence on μ as the prior distribution, reflecting the conjugacy properties of the prior with respect to the likelihood function. In summary it is another Beta distribution where $a = m + a_0$ and $b = l + b_0$, where $a_0$ and $b_0$ are our prior knowledge about the data. It naturally generates a sequential approach where we can start from our knowledge and update our distribution give certain amount of observations. Note that in the limit of an infinitely large data set m, l → ∞ the result reduces to the maximum likelihood result. it is a very general property that the Bayesian and maximum likelihood results will agree in the limit of an infinitely.\n",
    "\n",
    "So, to predict the the posterior distribution we should average over all posible values of mu using the sum and product rules,\n",
    "$$P(X=1|D) = \\sum_0^1 P(x=1|mu)*p(mu|D) = Expec(mu|D)$$ obs:(not a sum, in fact it is a integration)\n",
    "\n",
    "\n"
   ]
  },
  {
   "cell_type": "code",
   "execution_count": 10,
   "metadata": {
    "collapsed": false
   },
   "outputs": [
    {
     "name": "stdout",
     "output_type": "stream",
     "text": [
      "Binomial distribution:\n",
      "Outcomes: Discrete integer\n",
      "Num of observations: 10\n",
      "Estimator: Estimator.BAYESIAN\n",
      "Expec: 3.08\n",
      "Var: 2.13\n"
     ]
    },
    {
     "data": {
      "image/png": "[encoded data removed]",
      "text/plain": [
       "<matplotlib.figure.Figure at 0x7f1d0dc486d8>"
      ]
     },
     "metadata": {},
     "output_type": "display_data"
    }
   ],
   "source": [
    "#Prior knowledge - vary to see the behaviour\n",
    "a = 2; b = 1;\n",
    "\n",
    "#Observations - Vary to see the behaviour\n",
    "X = np.array([0, 0, 0, 0, 0, 0, 0, 0, 1, 1]); N = X.size;\n",
    "\n",
    "#Fitt bernoulli using Bayesian Approach\n",
    "Ben = pm.Binomial(a=a,b=b,est=pm.Estimator.BAYESIAN);\n",
    "\n",
    "#observe data\n",
    "Ben.update(X);\n",
    "print(Ben);\n",
    "\n",
    "#Show new distribution\n",
    "X = np.arange(1,N+1,1)\n",
    "pdf = Ben.prob(X);\n",
    "\n",
    "#configure graph\n",
    "plt.bar(X, pdf)\n",
    "plt.ylabel('P(m)');\n",
    "plt.xlabel('exactly m heads');\n",
    "plt.title('M heads Tosses');\n",
    "plt.show();\n",
    "\n"
   ]
  },
  {
   "cell_type": "markdown",
   "metadata": {},
   "source": [
    "## From Density Estimator to predictor\n",
    "Any density estimator can be turned into a classifier, and this holds true for the Gaussian density estimator. To build a Gaussian classifier, simply divide the data according to the value of the class variable, and learn a Gaussian P (x | c) for each class c. Also compute $P(C) = N_c/C$ of each class. Then, to classify a new point x, choose the class c that maximizes $P(C | X,D) = P(X | C,D) * P(C | D) $ (bayes theorem again)."
   ]
  }
 ],
 "metadata": {
  "kernelspec": {
   "display_name": "Python 3",
   "language": "python",
   "name": "python3"
  },
  "language_info": {
   "codemirror_mode": {
    "name": "ipython",
    "version": 3
   },
   "file_extension": ".py",
   "mimetype": "text/x-python",
   "name": "python",
   "nbconvert_exporter": "python",
   "pygments_lexer": "ipython3",
   "version": "3.4.4"
  }
 },
 "nbformat": 4,
 "nbformat_minor": 0
}
